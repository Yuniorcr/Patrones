{
  "cells": [
    {
      "cell_type": "code",
      "execution_count": 154,
      "metadata": {
        "id": "XYYDvoskkE61"
      },
      "outputs": [],
      "source": [
        "import tensorflow as tf\n",
        "\n",
        "from tensorflow.keras.preprocessing.text import Tokenizer\n",
        "from tensorflow.keras.preprocessing.sequence import pad_sequences"
      ]
    },
    {
      "cell_type": "code",
      "execution_count": 155,
      "metadata": {
        "id": "0eJSTTYnkJQd"
      },
      "outputs": [],
      "source": [
        "vocab_size = 10000\n",
        "embedding_dim = 16\n",
        "max_length = 100\n",
        "trunc_type='post'\n",
        "padding_type='post'\n",
        "oov_tok = \"<OOV>\"\n",
        "training_size = 15000\n"
      ]
    },
    {
      "cell_type": "code",
      "execution_count": 198,
      "metadata": {
        "colab": {
          "base_uri": "https://localhost:8080/"
        },
        "id": "oaLaaqhNkUPd",
        "outputId": "90b073cd-740d-4d3c-83df-54c590158cf7"
      },
      "outputs": [
        {
          "output_type": "execute_result",
          "data": {
            "text/plain": [
              "(20466, 2)"
            ]
          },
          "metadata": {},
          "execution_count": 198
        }
      ],
      "source": [
        "\n",
        "sentences = []\n",
        "labels = []\n",
        "import re\n",
        "def clean_text(text):\n",
        "    text = re.sub(r'[^A-Za-z0-9\\s]', '', text)\n",
        "    text = re.sub(r'\\s+', ' ', text)\n",
        "    return text\n",
        "\n",
        "\n",
        "import pandas as pd\n",
        "\n",
        "df1 = pd.read_csv('/content/datos.csv')\n",
        "df2 = pd.read_csv('/content/limpio.csv')\n",
        "df2 = df2.drop(['Unnamed: 2'], axis=1)\n",
        "df3 = pd.concat([df1,df2],ignore_index=True)\n",
        "df4 = df3.dropna()\n",
        "\n",
        "df5 = df4.drop(df4.index[19929])\n",
        "df5['dato'] = df5['dato'].astype(str)\n",
        "df5['etiqueta'] = df5['etiqueta'].apply(clean_text)\n",
        "\n",
        "for string in df5['dato'].values:\n",
        "    sentences.append(string)\n",
        "for etiqueta in df5['etiqueta'].values:\n",
        "    labels.append(int(etiqueta))\n",
        "df5.shape"
      ]
    },
    {
      "cell_type": "code",
      "execution_count": 184,
      "metadata": {
        "id": "S1sD-7v0kYWk"
      },
      "outputs": [],
      "source": [
        "from sklearn.model_selection import train_test_split\n",
        "\n",
        "X_train, X_test, y_train, y_test = train_test_split(sentences, labels, test_size=0.2)\n",
        "\n",
        "training_sentences = X_train\n",
        "testing_sentences = X_test\n",
        "training_labels = y_train\n",
        "testing_labels = y_test"
      ]
    },
    {
      "cell_type": "code",
      "execution_count": 185,
      "metadata": {
        "id": "3u8UB0MCkZ5N"
      },
      "outputs": [],
      "source": [
        "tokenizer = Tokenizer(num_words=vocab_size, oov_token=oov_tok)\n",
        "tokenizer.fit_on_texts(training_sentences)\n",
        "\n",
        "word_index = tokenizer.word_index\n",
        "\n",
        "training_sequences = tokenizer.texts_to_sequences(training_sentences)\n",
        "training_padded = pad_sequences(training_sequences, maxlen=max_length, padding=padding_type, truncating=trunc_type)\n",
        "\n",
        "testing_sequences = tokenizer.texts_to_sequences(testing_sentences)\n",
        "testing_padded = pad_sequences(testing_sequences, maxlen=max_length, padding=padding_type, truncating=trunc_type)"
      ]
    },
    {
      "cell_type": "code",
      "execution_count": 186,
      "metadata": {
        "id": "GrAlWBKf99Ya"
      },
      "outputs": [],
      "source": [
        "# Need this block to get it to work with TensorFlow 2.x\n",
        "import numpy as np\n",
        "training_padded = np.array(training_padded)\n",
        "training_labels = np.array(training_labels)\n",
        "testing_padded = np.array(testing_padded)\n",
        "testing_labels = np.array(testing_labels)"
      ]
    },
    {
      "cell_type": "code",
      "execution_count": 187,
      "metadata": {
        "id": "FufaT4vlkiDE"
      },
      "outputs": [],
      "source": [
        "model = tf.keras.Sequential([\n",
        "    tf.keras.layers.Embedding(vocab_size, embedding_dim, input_length=max_length),\n",
        "    tf.keras.layers.GlobalAveragePooling1D(),\n",
        "    tf.keras.layers.Dense(24, activation='relu'),\n",
        "    tf.keras.layers.Dense(1, activation='sigmoid')\n",
        "])\n",
        "model.compile(loss='binary_crossentropy',optimizer='adam',metrics=['accuracy'])"
      ]
    },
    {
      "cell_type": "code",
      "execution_count": 188,
      "metadata": {
        "colab": {
          "base_uri": "https://localhost:8080/"
        },
        "id": "XfDt1hmYkiys",
        "outputId": "9e5cf6a0-ff8e-4c47-c3e1-74dde11a0a35"
      },
      "outputs": [
        {
          "output_type": "stream",
          "name": "stdout",
          "text": [
            "Model: \"sequential_4\"\n",
            "_________________________________________________________________\n",
            " Layer (type)                Output Shape              Param #   \n",
            "=================================================================\n",
            " embedding_4 (Embedding)     (None, 100, 16)           160000    \n",
            "                                                                 \n",
            " global_average_pooling1d_4   (None, 16)               0         \n",
            " (GlobalAveragePooling1D)                                        \n",
            "                                                                 \n",
            " dense_8 (Dense)             (None, 24)                408       \n",
            "                                                                 \n",
            " dense_9 (Dense)             (None, 1)                 25        \n",
            "                                                                 \n",
            "=================================================================\n",
            "Total params: 160,433\n",
            "Trainable params: 160,433\n",
            "Non-trainable params: 0\n",
            "_________________________________________________________________\n"
          ]
        }
      ],
      "source": [
        "model.summary()\n"
      ]
    },
    {
      "cell_type": "code",
      "execution_count": 189,
      "metadata": {
        "colab": {
          "base_uri": "https://localhost:8080/"
        },
        "id": "2DTKQFf1kkyc",
        "outputId": "02b7e19f-6dfd-42f4-b9b9-c76dfdd87512"
      },
      "outputs": [
        {
          "output_type": "stream",
          "name": "stdout",
          "text": [
            "Epoch 1/30\n",
            "512/512 - 17s - loss: 0.6453 - accuracy: 0.6230 - val_loss: 0.5769 - val_accuracy: 0.6781 - 17s/epoch - 33ms/step\n",
            "Epoch 2/30\n",
            "512/512 - 3s - loss: 0.4138 - accuracy: 0.8257 - val_loss: 0.2832 - val_accuracy: 0.9018 - 3s/epoch - 6ms/step\n",
            "Epoch 3/30\n",
            "512/512 - 3s - loss: 0.2197 - accuracy: 0.9188 - val_loss: 0.2046 - val_accuracy: 0.9106 - 3s/epoch - 6ms/step\n",
            "Epoch 4/30\n",
            "512/512 - 3s - loss: 0.1675 - accuracy: 0.9314 - val_loss: 0.1828 - val_accuracy: 0.9167 - 3s/epoch - 6ms/step\n",
            "Epoch 5/30\n",
            "512/512 - 3s - loss: 0.1446 - accuracy: 0.9417 - val_loss: 0.1831 - val_accuracy: 0.9189 - 3s/epoch - 6ms/step\n",
            "Epoch 6/30\n",
            "512/512 - 3s - loss: 0.1302 - accuracy: 0.9484 - val_loss: 0.1688 - val_accuracy: 0.9196 - 3s/epoch - 6ms/step\n",
            "Epoch 7/30\n",
            "512/512 - 3s - loss: 0.1187 - accuracy: 0.9544 - val_loss: 0.1664 - val_accuracy: 0.9211 - 3s/epoch - 5ms/step\n",
            "Epoch 8/30\n",
            "512/512 - 3s - loss: 0.1089 - accuracy: 0.9602 - val_loss: 0.1662 - val_accuracy: 0.9204 - 3s/epoch - 5ms/step\n",
            "Epoch 9/30\n",
            "512/512 - 3s - loss: 0.1007 - accuracy: 0.9634 - val_loss: 0.1726 - val_accuracy: 0.9196 - 3s/epoch - 6ms/step\n",
            "Epoch 10/30\n",
            "512/512 - 3s - loss: 0.0934 - accuracy: 0.9673 - val_loss: 0.1740 - val_accuracy: 0.9211 - 3s/epoch - 6ms/step\n",
            "Epoch 11/30\n",
            "512/512 - 3s - loss: 0.0874 - accuracy: 0.9705 - val_loss: 0.1746 - val_accuracy: 0.9184 - 3s/epoch - 6ms/step\n",
            "Epoch 12/30\n",
            "512/512 - 4s - loss: 0.0809 - accuracy: 0.9732 - val_loss: 0.1809 - val_accuracy: 0.9211 - 4s/epoch - 9ms/step\n",
            "Epoch 13/30\n",
            "512/512 - 5s - loss: 0.0755 - accuracy: 0.9751 - val_loss: 0.1863 - val_accuracy: 0.9199 - 5s/epoch - 9ms/step\n",
            "Epoch 14/30\n",
            "512/512 - 4s - loss: 0.0708 - accuracy: 0.9770 - val_loss: 0.1935 - val_accuracy: 0.9184 - 4s/epoch - 8ms/step\n",
            "Epoch 15/30\n",
            "512/512 - 3s - loss: 0.0667 - accuracy: 0.9780 - val_loss: 0.2019 - val_accuracy: 0.9162 - 3s/epoch - 5ms/step\n",
            "Epoch 16/30\n",
            "512/512 - 3s - loss: 0.0634 - accuracy: 0.9789 - val_loss: 0.2077 - val_accuracy: 0.9174 - 3s/epoch - 5ms/step\n",
            "Epoch 17/30\n",
            "512/512 - 3s - loss: 0.0592 - accuracy: 0.9795 - val_loss: 0.2160 - val_accuracy: 0.9145 - 3s/epoch - 6ms/step\n",
            "Epoch 18/30\n",
            "512/512 - 3s - loss: 0.0557 - accuracy: 0.9811 - val_loss: 0.2274 - val_accuracy: 0.9116 - 3s/epoch - 5ms/step\n",
            "Epoch 19/30\n",
            "512/512 - 3s - loss: 0.0528 - accuracy: 0.9824 - val_loss: 0.2357 - val_accuracy: 0.9138 - 3s/epoch - 6ms/step\n",
            "Epoch 20/30\n",
            "512/512 - 3s - loss: 0.0499 - accuracy: 0.9834 - val_loss: 0.2517 - val_accuracy: 0.9104 - 3s/epoch - 5ms/step\n",
            "Epoch 21/30\n",
            "512/512 - 3s - loss: 0.0471 - accuracy: 0.9841 - val_loss: 0.2571 - val_accuracy: 0.9074 - 3s/epoch - 5ms/step\n",
            "Epoch 22/30\n",
            "512/512 - 3s - loss: 0.0450 - accuracy: 0.9855 - val_loss: 0.2666 - val_accuracy: 0.9094 - 3s/epoch - 6ms/step\n",
            "Epoch 23/30\n",
            "512/512 - 3s - loss: 0.0430 - accuracy: 0.9855 - val_loss: 0.2790 - val_accuracy: 0.9055 - 3s/epoch - 5ms/step\n",
            "Epoch 24/30\n",
            "512/512 - 3s - loss: 0.0405 - accuracy: 0.9869 - val_loss: 0.2938 - val_accuracy: 0.9033 - 3s/epoch - 5ms/step\n",
            "Epoch 25/30\n",
            "512/512 - 3s - loss: 0.0377 - accuracy: 0.9876 - val_loss: 0.3131 - val_accuracy: 0.8996 - 3s/epoch - 5ms/step\n",
            "Epoch 26/30\n",
            "512/512 - 3s - loss: 0.0369 - accuracy: 0.9880 - val_loss: 0.3139 - val_accuracy: 0.9047 - 3s/epoch - 5ms/step\n",
            "Epoch 27/30\n",
            "512/512 - 3s - loss: 0.0351 - accuracy: 0.9881 - val_loss: 0.3281 - val_accuracy: 0.9016 - 3s/epoch - 5ms/step\n",
            "Epoch 28/30\n",
            "512/512 - 3s - loss: 0.0337 - accuracy: 0.9892 - val_loss: 0.3395 - val_accuracy: 0.9003 - 3s/epoch - 6ms/step\n",
            "Epoch 29/30\n",
            "512/512 - 3s - loss: 0.0319 - accuracy: 0.9892 - val_loss: 0.3522 - val_accuracy: 0.8969 - 3s/epoch - 5ms/step\n",
            "Epoch 30/30\n",
            "512/512 - 3s - loss: 0.0306 - accuracy: 0.9898 - val_loss: 0.3640 - val_accuracy: 0.8981 - 3s/epoch - 5ms/step\n"
          ]
        }
      ],
      "source": [
        "num_epochs = 30\n",
        "history = model.fit(training_padded, training_labels, epochs=num_epochs, validation_data=(testing_padded, testing_labels), verbose=2)"
      ]
    },
    {
      "cell_type": "code",
      "execution_count": 190,
      "metadata": {
        "colab": {
          "base_uri": "https://localhost:8080/",
          "height": 541
        },
        "id": "2HYfBKXjkmU8",
        "outputId": "5dfec38f-6b4a-4a6f-f7c8-caf4b4061ec4"
      },
      "outputs": [
        {
          "output_type": "display_data",
          "data": {
            "image/png": "[encoded data removed]",
            "text/plain": [
              "<Figure size 432x288 with 1 Axes>"
            ]
          },
          "metadata": {
            "needs_background": "light"
          }
        },
        {
          "output_type": "display_data",
          "data": {
            "image/png": "[encoded data removed]",
            "text/plain": [
              "<Figure size 432x288 with 1 Axes>"
            ]
          },
          "metadata": {
            "needs_background": "light"
          }
        }
      ],
      "source": [
        "import matplotlib.pyplot as plt\n",
        "\n",
        "\n",
        "def plot_graphs(history, string):\n",
        "  plt.plot(history.history[string])\n",
        "  plt.plot(history.history['val_'+string])\n",
        "  plt.xlabel(\"Epochs\")\n",
        "  plt.ylabel(string)\n",
        "  plt.legend([string, 'val_'+string])\n",
        "  plt.show()\n",
        "  \n",
        "plot_graphs(history, \"accuracy\")\n",
        "plot_graphs(history, \"loss\")"
      ]
    },
    {
      "cell_type": "code",
      "execution_count": 191,
      "metadata": {
        "colab": {
          "base_uri": "https://localhost:8080/"
        },
        "id": "7SBdAZAenvzL",
        "outputId": "281bc2b7-901e-4322-c21a-bbdfd3d5282f"
      },
      "outputs": [
        {
          "output_type": "stream",
          "name": "stdout",
          "text": [
            "la vida por la gorda los quiero no se separen que estoy dejando hasta mi futura <OOV> aca gracias ? ? ? ? ? ? ? ? ? ? ? ? ? ? ? ? ? ? ? ? ? ? ? ? ? ? ? ? ? ? ? ? ? ? ? ? ? ? ? ? ? ? ? ? ? ? ? ? ? ? ? ? ? ? ? ? ? ? ? ? ? ? ? ? ? ? ? ? ? ? ? ? ? ? ? ? ? ? ? ? ?\n",
            "oleada ramos muerete es más conciliador\n",
            "1\n"
          ]
        }
      ],
      "source": [
        "reverse_word_index = dict([(value, key) for (key, value) in word_index.items()])\n",
        "\n",
        "def decode_sentence(text):\n",
        "    return ' '.join([reverse_word_index.get(i, '?') for i in text])\n",
        "\n",
        "print(decode_sentence(training_padded[0]))\n",
        "print(training_sentences[2])\n",
        "print(labels[2])"
      ]
    },
    {
      "cell_type": "code",
      "execution_count": 192,
      "metadata": {
        "colab": {
          "base_uri": "https://localhost:8080/"
        },
        "id": "c9MqihtEkzQ9",
        "outputId": "897c7435-5683-4ff0-f664-e5b81b5ae26a"
      },
      "outputs": [
        {
          "output_type": "stream",
          "name": "stdout",
          "text": [
            "(10000, 16)\n"
          ]
        }
      ],
      "source": [
        "e = model.layers[0]\n",
        "weights = e.get_weights()[0]\n",
        "print(weights.shape) # shape: (vocab_size, embedding_dim)\n"
      ]
    },
    {
      "cell_type": "code",
      "execution_count": 193,
      "metadata": {
        "id": "LoBXVffknldU"
      },
      "outputs": [],
      "source": [
        "import io\n",
        "\n",
        "out_v = io.open('vecs.tsv', 'w', encoding='utf-8')\n",
        "out_m = io.open('meta.tsv', 'w', encoding='utf-8')\n",
        "for word_num in range(1, vocab_size):\n",
        "  word = reverse_word_index[word_num]\n",
        "  embeddings = weights[word_num]\n",
        "  out_m.write(word + \"\\n\")\n",
        "  out_v.write('\\t'.join([str(x) for x in embeddings]) + \"\\n\")\n",
        "out_v.close()\n",
        "out_m.close()"
      ]
    },
    {
      "cell_type": "code",
      "execution_count": null,
      "metadata": {
        "id": "U4eZ5HtVnnEE"
      },
      "outputs": [],
      "source": [
        "# try:\n",
        "#   from google.colab import files\n",
        "# except ImportError:\n",
        "#   pass\n",
        "# else:\n",
        "#   files.download('vecs.tsv')\n",
        "#   files.download('meta.tsv')"
      ]
    },
    {
      "cell_type": "code",
      "execution_count": 195,
      "metadata": {
        "colab": {
          "base_uri": "https://localhost:8080/"
        },
        "id": "cG8-ArY-qDcz",
        "outputId": "06ed29b8-92f5-44e3-d974-237f25ae8375"
      },
      "outputs": [
        {
          "output_type": "stream",
          "name": "stdout",
          "text": [
            "[[0.9186112 ]\n",
            " [0.03142057]]\n"
          ]
        }
      ],
      "source": [
        "sentence = [\"eres fea y gorda\", \"me gustas y eres hermosa\"]\n",
        "sequences = tokenizer.texts_to_sequences(sentence)\n",
        "padded = pad_sequences(sequences, maxlen=max_length, padding=padding_type, truncating=trunc_type)\n",
        "print(model.predict(padded))"
      ]
    },
    {
      "cell_type": "code",
      "source": [
        "# Guardar el Modelo\n",
        "model.save('path_to_my_model.h5')\n",
        "\n",
        "from tensorflow import keras\n",
        "# Recrea exactamente el mismo modelo solo desde el archivo\n",
        "new_model = keras.models.load_model('path_to_my_model.h5')"
      ],
      "metadata": {
        "id": "in_zYsG3AJuo"
      },
      "execution_count": 201,
      "outputs": []
    }
  ],
  "metadata": {
    "accelerator": "GPU",
    "colab": {
      "collapsed_sections": [],
      "name": "Course 3 - Week 2 - Lesson 2.ipynb",
      "provenance": []
    },
    "kernelspec": {
      "display_name": "Python 3",
      "name": "python3"
    }
  },
  "nbformat": 4,
  "nbformat_minor": 0
}